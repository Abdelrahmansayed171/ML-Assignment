{
 "cells": [
  {
   "cell_type": "code",
   "execution_count": 20,
   "metadata": {},
   "outputs": [],
   "source": [
    "\n",
    "\n",
    "class KNN():\n",
    "\n",
    "    def __init__(self) -> None:\n",
    "        self.train=list()\n",
    "\n",
    "    def __distance(self,testRow,trainRow):\n",
    "        distance = 0.0\n",
    "        for i in range(len(testRow)-1):\n",
    "            distance += (testRow[i] - trainRow[i])**2\n",
    "        return distance**(1/2) \n",
    "\n",
    "\n",
    "    def __KDist(self,testRow, k):\n",
    "        allDistances = list()\n",
    "        for trainRow in self.train:\n",
    "                dist = self.__distance(testRow, trainRow)\n",
    "                allDistances.append((trainRow, dist))\n",
    "                allDistances.sort(key=lambda tup: tup[1])\n",
    "        neighborsDistances=allDistances[:k]\n",
    "        return neighborsDistances   #Tuples of k neighbors and their distances\n",
    "    \n",
    "\n",
    "    def predict(self, testRow, k):\n",
    "        nwd = self.__KDist(testRow, k)\n",
    "        total_weighted_votes = {}\n",
    "        total_weights = 0\n",
    "\n",
    "        for neighbor, dist in nwd:\n",
    "            weight = 1 / (dist + 0.000001) #to not divide by 0\n",
    "            total_weights += weight\n",
    "\n",
    "            class_label = neighbor[-1]\n",
    "\n",
    "            if class_label in total_weighted_votes:\n",
    "                total_weighted_votes[class_label] += weight\n",
    "            else:\n",
    "                total_weighted_votes[class_label] = weight\n",
    "\n",
    "        normalized_votes = {label: weight / total_weights for label, weight in total_weighted_votes.items()} #Weight of every class divided by total weights of both classes\n",
    "        return max(normalized_votes, key=normalized_votes.get) #Max voted class\n",
    "\n",
    "    def evaluation(self,true, predicted):\n",
    "        correctPredictions = 0\n",
    "\n",
    "        for i in range(len(true)):\n",
    "            if true[i] == predicted[i]:\n",
    "                correctPredictions += 1\n",
    "        return correctPredictions\n",
    "        \n",
    "    def fit(self,train, test, k):\n",
    "        self.train=train\n",
    "        allPredicted = list()\n",
    "        for row in test:\n",
    "            prediction = self.predict(row, k)\n",
    "            allPredicted.append(prediction)\n",
    "        trueValues = [row[-1] for row in test]\n",
    "        corr=self.evaluation(trueValues,allPredicted)\n",
    "        print(\"Model fit successfully using:- \\nK: {}\\nCorrect predicitons: {}\\nTest set instances: {}\\nAccuracy: {}%\".format(k,corr,len(test),str(round(corr / len(test) * 100,2))))\n",
    "        \n"
   ]
  },
  {
   "cell_type": "code",
   "execution_count": 21,
   "metadata": {},
   "outputs": [],
   "source": [
    "class preprocessing():\n",
    "\n",
    "    def train_test_split(dataset,ratio):\n",
    "        \n",
    "        ratio_idx=round(1-ratio*len(dataset))\n",
    "        train = dataset[:ratio_idx]\n",
    "        test = dataset[ratio_idx:]\n",
    "        return train, test\n",
    "    \n",
    "    def normalization(dataset):\n",
    "\n",
    "        features = [list(map(float, row[:-1])) for row in dataset]\n",
    "        labels = [row[-1] for row in dataset]\n",
    "\n",
    "        features_transposed = list(map(list, zip(*features)))\n",
    "\n",
    "        # Normalization min max\n",
    "        normalized_features = []\n",
    "        for feature_values in features_transposed:\n",
    "            min_value = min(feature_values)\n",
    "            max_value = max(feature_values)\n",
    "            normalized_feature = [(float(value) - min_value) / (max_value - min_value) for value in feature_values]\n",
    "            normalized_features.append(normalized_feature)\n",
    "\n",
    "        normalized_features = list(map(list, zip(*normalized_features)))\n",
    "\n",
    "        normalized_dataset = [normalized_feature + [label] for normalized_feature, label in zip(normalized_features, labels)]\n",
    "\n",
    "        return normalized_dataset"
   ]
  },
  {
   "cell_type": "code",
   "execution_count": 22,
   "metadata": {},
   "outputs": [],
   "source": [
    "class pd:\n",
    "    \n",
    "    def read_csv(filename,header=True):\n",
    "        with open(filename, 'r') as f:\n",
    "            if header:\n",
    "                next(f)\n",
    "            results = []\n",
    "            for line in f:\n",
    "                line= line.strip()\n",
    "                words = line.split(',')\n",
    "                results.append(words)\n",
    "\n",
    "        return results"
   ]
  },
  {
   "cell_type": "code",
   "execution_count": 23,
   "metadata": {},
   "outputs": [],
   "source": [
    "dataset=pd.read_csv('diabetes.csv')"
   ]
  },
  {
   "cell_type": "code",
   "execution_count": 24,
   "metadata": {},
   "outputs": [],
   "source": [
    "dataset=preprocessing.normalization(dataset)"
   ]
  },
  {
   "cell_type": "code",
   "execution_count": 25,
   "metadata": {},
   "outputs": [],
   "source": [
    "train,test=preprocessing.train_test_split(dataset,0.3)"
   ]
  },
  {
   "cell_type": "code",
   "execution_count": 26,
   "metadata": {},
   "outputs": [],
   "source": [
    "knn=KNN()"
   ]
  },
  {
   "cell_type": "code",
   "execution_count": 27,
   "metadata": {},
   "outputs": [
    {
     "name": "stdout",
     "output_type": "stream",
     "text": [
      "Model fit successfully using:- \n",
      "K: 5\n",
      "Correct predicitons: 173\n",
      "Test set instances: 229\n",
      "Accuracy: 75.55%\n"
     ]
    }
   ],
   "source": [
    "knn.fit(train,test,5)"
   ]
  },
  {
   "cell_type": "code",
   "execution_count": 28,
   "metadata": {},
   "outputs": [
    {
     "name": "stdout",
     "output_type": "stream",
     "text": [
      "Model fit successfully using:- \n",
      "K: 3\n",
      "Correct predicitons: 175\n",
      "Test set instances: 229\n",
      "Accuracy: 76.42%\n",
      "────────────────────\n",
      "Model fit successfully using:- \n",
      "K: 6\n",
      "Correct predicitons: 176\n",
      "Test set instances: 229\n",
      "Accuracy: 76.86%\n",
      "────────────────────\n",
      "Model fit successfully using:- \n",
      "K: 9\n",
      "Correct predicitons: 171\n",
      "Test set instances: 229\n",
      "Accuracy: 74.67%\n",
      "────────────────────\n",
      "Model fit successfully using:- \n",
      "K: 12\n",
      "Correct predicitons: 177\n",
      "Test set instances: 229\n",
      "Accuracy: 77.29%\n",
      "────────────────────\n",
      "Model fit successfully using:- \n",
      "K: 14\n",
      "Correct predicitons: 178\n",
      "Test set instances: 229\n",
      "Accuracy: 77.73%\n",
      "────────────────────\n"
     ]
    }
   ],
   "source": [
    "for k in [3,6,9,12,14]:\n",
    "    knn.fit(train,test,k)\n",
    "    print('─' * 20)"
   ]
  },
  {
   "cell_type": "code",
   "execution_count": null,
   "metadata": {},
   "outputs": [],
   "source": []
  },
  {
   "cell_type": "code",
   "execution_count": null,
   "metadata": {},
   "outputs": [],
   "source": []
  }
 ],
 "metadata": {
  "kernelspec": {
   "display_name": "pp",
   "language": "python",
   "name": "python3"
  },
  "language_info": {
   "codemirror_mode": {
    "name": "ipython",
    "version": 3
   },
   "file_extension": ".py",
   "mimetype": "text/x-python",
   "name": "python",
   "nbconvert_exporter": "python",
   "pygments_lexer": "ipython3",
   "version": "3.10.4"
  }
 },
 "nbformat": 4,
 "nbformat_minor": 2
}
