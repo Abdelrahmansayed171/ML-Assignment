{
 "cells": [
  {
   "cell_type": "markdown",
   "metadata": {},
   "source": [
    "# Assignment-2:\n",
    "# Abdelrahman Sayed_______20201114\n",
    "# Seif El-Din Mohamed_____20200239\n",
    "# Shahd Fekry ali_________20201101\n",
    "# Mariam Alaa Eldeen______20200525\n",
    "# Wessam Fawzy____________20201215\n"
   ]
  },
  {
   "cell_type": "markdown",
   "metadata": {},
   "source": [
    "# Problem-1\n"
   ]
  },
  {
   "cell_type": "markdown",
   "metadata": {},
   "source": [
    "## Import Libraries"
   ]
  },
  {
   "cell_type": "code",
   "execution_count": 14,
   "metadata": {},
   "outputs": [],
   "source": [
    "import pandas as pd  # Pandas for data manipulation\n",
    "from sklearn.model_selection import train_test_split  # Train-test split for model evaluation\n",
    "from sklearn.tree import DecisionTreeClassifier  # Decision tree classifier for modeling\n",
    "from sklearn.metrics import accuracy_score  # Metric for evaluating model performance\n",
    "from sklearn.compose import ColumnTransformer  # Used for transforming specific columns\n",
    "from sklearn.preprocessing import OneHotEncoder  # One-hot encoding for categorical variables\n",
    "import numpy as np  # NumPy for numerical operations\n",
    "from sklearn.preprocessing import LabelEncoder  # Label encoding for categorical variables\n",
    "import matplotlib.pyplot as plt  # Matplotlib for plotting"
   ]
  },
  {
   "cell_type": "markdown",
   "metadata": {},
   "source": [
    "## import Data from Dataset"
   ]
  },
  {
   "cell_type": "code",
   "execution_count": 15,
   "metadata": {},
   "outputs": [],
   "source": [
    "dataset = pd.read_csv('drug.csv') # Read the dataset from a CSV file named 'drug.csv' using Pandas\n"
   ]
  },
  {
   "cell_type": "markdown",
   "metadata": {},
   "source": [
    "## Data Preprocessing"
   ]
  },
  {
   "cell_type": "markdown",
   "metadata": {},
   "source": [
    "### Count Missing Values Occurs"
   ]
  },
  {
   "cell_type": "code",
   "execution_count": 16,
   "metadata": {},
   "outputs": [
    {
     "name": "stdout",
     "output_type": "stream",
     "text": [
      "Missing Values:\n",
      " Age            0\n",
      "Sex            0\n",
      "BP             2\n",
      "Cholesterol    2\n",
      "Na_to_K        1\n",
      "Drug           0\n",
      "dtype: int64\n"
     ]
    }
   ],
   "source": [
    "missing_values = dataset.isnull().sum() # Check for missing values in the dataset\n",
    "print(\"Missing Values:\\n\", missing_values) # Print the count of missing values for each column"
   ]
  },
  {
   "cell_type": "markdown",
   "metadata": {},
   "source": [
    "### Handling Missing Data Features"
   ]
  },
  {
   "cell_type": "code",
   "execution_count": 17,
   "metadata": {},
   "outputs": [],
   "source": [
    "# We Will Drop Records which have no BP and cholestrol Features\n",
    "dataset.dropna(subset=['BP', 'Cholesterol'], inplace=True)\n",
    "\n",
    "# Then We Will Fill Records has no Na_to_K Feature with Average of Na_to_K Values\n",
    "dataset['Na_to_K'].fillna(dataset['Na_to_K'].mean(), inplace=True)\n"
   ]
  },
  {
   "cell_type": "markdown",
   "metadata": {},
   "source": [
    "### Double-Check Missing Features\n"
   ]
  },
  {
   "cell_type": "code",
   "execution_count": 18,
   "metadata": {},
   "outputs": [
    {
     "name": "stdout",
     "output_type": "stream",
     "text": [
      "Missing Values:\n",
      " Age            0\n",
      "Sex            0\n",
      "BP             0\n",
      "Cholesterol    0\n",
      "Na_to_K        0\n",
      "Drug           0\n",
      "dtype: int64\n"
     ]
    }
   ],
   "source": [
    "missing_values = dataset.isnull().sum() # Check for missing values in the dataset\n",
    "print(\"Missing Values:\\n\", missing_values) # Print the count of missing values for each column"
   ]
  },
  {
   "cell_type": "markdown",
   "metadata": {},
   "source": [
    "### Split Dataset Into Feature set and Target set"
   ]
  },
  {
   "cell_type": "code",
   "execution_count": 19,
   "metadata": {},
   "outputs": [
    {
     "name": "stdout",
     "output_type": "stream",
     "text": [
      "Feature Matrix (X):\n",
      " [[23 'F' 'HIGH' 'HIGH' 25.355]\n",
      " [47 'M' 'LOW' 'HIGH' 13.093]\n",
      " [47 'M' 'LOW' 'HIGH' 10.114]\n",
      " [28 'F' 'NORMAL' 'HIGH' 16.08220512820512]\n",
      " [61 'F' 'LOW' 'HIGH' 18.043]\n",
      " [22 'F' 'NORMAL' 'HIGH' 8.607]\n",
      " [49 'F' 'NORMAL' 'HIGH' 16.275]\n",
      " [41 'M' 'LOW' 'HIGH' 11.037]\n",
      " [60 'M' 'NORMAL' 'HIGH' 15.171]\n",
      " [47 'F' 'LOW' 'HIGH' 11.767]\n",
      " [34 'F' 'HIGH' 'NORMAL' 19.199]\n",
      " [43 'M' 'LOW' 'HIGH' 15.376]\n",
      " [74 'F' 'LOW' 'HIGH' 20.942]\n",
      " [50 'F' 'NORMAL' 'HIGH' 12.703]\n",
      " [16 'F' 'HIGH' 'NORMAL' 15.516]\n",
      " [69 'M' 'LOW' 'NORMAL' 11.455]\n",
      " [43 'M' 'HIGH' 'HIGH' 13.972]\n",
      " [23 'M' 'LOW' 'HIGH' 7.298]\n",
      " [32 'F' 'HIGH' 'NORMAL' 25.974]\n",
      " [57 'M' 'LOW' 'NORMAL' 19.128]\n",
      " [63 'M' 'NORMAL' 'HIGH' 25.917]\n",
      " [47 'M' 'LOW' 'NORMAL' 30.568]\n",
      " [48 'F' 'LOW' 'HIGH' 15.036]\n",
      " [33 'F' 'LOW' 'HIGH' 33.486]\n",
      " [28 'F' 'HIGH' 'NORMAL' 18.809]\n",
      " [31 'M' 'HIGH' 'HIGH' 30.366]\n",
      " [49 'F' 'NORMAL' 'NORMAL' 9.381]\n",
      " [39 'F' 'LOW' 'NORMAL' 22.697]\n",
      " [45 'M' 'LOW' 'HIGH' 17.951]\n",
      " [18 'F' 'NORMAL' 'NORMAL' 8.75]\n",
      " [74 'M' 'HIGH' 'HIGH' 9.567]\n",
      " [49 'M' 'LOW' 'NORMAL' 11.014]\n",
      " [65 'F' 'HIGH' 'NORMAL' 31.876]\n",
      " [53 'M' 'NORMAL' 'HIGH' 14.133]\n",
      " [46 'M' 'NORMAL' 'NORMAL' 7.285]\n",
      " [32 'M' 'HIGH' 'NORMAL' 9.445]\n",
      " [39 'M' 'LOW' 'NORMAL' 13.938]\n",
      " [39 'F' 'NORMAL' 'NORMAL' 9.709]\n",
      " [15 'M' 'NORMAL' 'HIGH' 9.084]\n",
      " [73 'F' 'NORMAL' 'HIGH' 19.221]\n",
      " [58 'F' 'HIGH' 'NORMAL' 14.239]\n",
      " [50 'M' 'NORMAL' 'NORMAL' 15.79]\n",
      " [23 'M' 'NORMAL' 'HIGH' 12.26]\n",
      " [50 'F' 'NORMAL' 'NORMAL' 12.295]\n",
      " [66 'F' 'NORMAL' 'NORMAL' 8.107]\n",
      " [37 'F' 'HIGH' 'HIGH' 13.091]\n",
      " [68 'M' 'LOW' 'HIGH' 10.291]\n",
      " [23 'M' 'NORMAL' 'HIGH' 31.686]\n",
      " [28 'F' 'LOW' 'HIGH' 19.796]\n",
      " [58 'F' 'HIGH' 'HIGH' 19.416]\n",
      " [67 'M' 'NORMAL' 'NORMAL' 10.898]\n",
      " [62 'M' 'LOW' 'NORMAL' 27.183]\n",
      " [24 'F' 'HIGH' 'NORMAL' 18.457]\n",
      " [68 'F' 'HIGH' 'NORMAL' 10.189]\n",
      " [26 'F' 'LOW' 'HIGH' 14.16]\n",
      " [65 'M' 'HIGH' 'NORMAL' 11.34]\n",
      " [40 'M' 'HIGH' 'HIGH' 27.826]\n",
      " [60 'M' 'NORMAL' 'NORMAL' 10.091]\n",
      " [34 'M' 'HIGH' 'HIGH' 18.703]\n",
      " [38 'F' 'LOW' 'NORMAL' 29.875]\n",
      " [24 'M' 'HIGH' 'NORMAL' 9.475]\n",
      " [67 'M' 'LOW' 'NORMAL' 20.693]\n",
      " [45 'M' 'LOW' 'NORMAL' 8.37]\n",
      " [60 'F' 'HIGH' 'HIGH' 13.303]\n",
      " [68 'F' 'NORMAL' 'NORMAL' 27.05]\n",
      " [29 'M' 'HIGH' 'HIGH' 12.856]\n",
      " [17 'M' 'NORMAL' 'NORMAL' 10.832]\n",
      " [54 'M' 'NORMAL' 'HIGH' 24.658]\n",
      " [18 'F' 'HIGH' 'NORMAL' 24.276]\n",
      " [70 'M' 'HIGH' 'HIGH' 13.967]\n",
      " [28 'F' 'NORMAL' 'HIGH' 19.675]\n",
      " [24 'F' 'NORMAL' 'HIGH' 10.605]\n",
      " [41 'F' 'NORMAL' 'NORMAL' 22.905]\n",
      " [31 'M' 'HIGH' 'NORMAL' 17.069]\n",
      " [26 'M' 'LOW' 'NORMAL' 20.909]\n",
      " [36 'F' 'HIGH' 'HIGH' 11.198]\n",
      " [26 'F' 'HIGH' 'NORMAL' 19.161]\n",
      " [19 'F' 'HIGH' 'HIGH' 13.313]\n",
      " [32 'F' 'LOW' 'NORMAL' 10.84]\n",
      " [60 'M' 'HIGH' 'HIGH' 13.934]\n",
      " [64 'M' 'NORMAL' 'HIGH' 7.761]\n",
      " [32 'F' 'LOW' 'HIGH' 9.712]\n",
      " [38 'F' 'HIGH' 'NORMAL' 11.326]\n",
      " [47 'F' 'LOW' 'HIGH' 10.067]\n",
      " [59 'M' 'HIGH' 'HIGH' 13.935]\n",
      " [51 'F' 'NORMAL' 'HIGH' 13.597]\n",
      " [69 'M' 'LOW' 'HIGH' 15.478]\n",
      " [37 'F' 'HIGH' 'NORMAL' 23.091]\n",
      " [50 'F' 'NORMAL' 'NORMAL' 17.211]\n",
      " [62 'M' 'NORMAL' 'HIGH' 16.594]\n",
      " [41 'M' 'HIGH' 'NORMAL' 15.156]\n",
      " [29 'F' 'HIGH' 'HIGH' 29.45]\n",
      " [42 'F' 'LOW' 'NORMAL' 29.271]\n",
      " [56 'M' 'LOW' 'HIGH' 15.015]\n",
      " [36 'M' 'LOW' 'NORMAL' 11.424]\n",
      " [58 'F' 'LOW' 'HIGH' 38.247]\n",
      " [56 'F' 'HIGH' 'HIGH' 25.395]\n",
      " [20 'M' 'HIGH' 'NORMAL' 35.639]\n",
      " [15 'F' 'HIGH' 'NORMAL' 16.725]\n",
      " [31 'M' 'HIGH' 'NORMAL' 11.871]\n",
      " [45 'F' 'HIGH' 'HIGH' 12.854]\n",
      " [28 'F' 'LOW' 'HIGH' 13.127]\n",
      " [56 'M' 'NORMAL' 'HIGH' 8.966]\n",
      " [22 'M' 'HIGH' 'NORMAL' 28.294]\n",
      " [37 'M' 'LOW' 'NORMAL' 8.968]\n",
      " [22 'M' 'NORMAL' 'HIGH' 11.953]\n",
      " [42 'M' 'LOW' 'HIGH' 20.013]\n",
      " [72 'M' 'HIGH' 'NORMAL' 9.677]\n",
      " [23 'M' 'NORMAL' 'HIGH' 16.85]\n",
      " [50 'M' 'HIGH' 'HIGH' 7.49]\n",
      " [47 'F' 'NORMAL' 'NORMAL' 6.683]\n",
      " [35 'M' 'LOW' 'NORMAL' 9.17]\n",
      " [65 'F' 'LOW' 'NORMAL' 13.769]\n",
      " [20 'F' 'NORMAL' 'NORMAL' 9.281]\n",
      " [51 'M' 'HIGH' 'HIGH' 18.295]\n",
      " [67 'M' 'NORMAL' 'NORMAL' 9.514]\n",
      " [40 'F' 'NORMAL' 'HIGH' 10.103]\n",
      " [32 'F' 'HIGH' 'NORMAL' 10.292]\n",
      " [61 'F' 'HIGH' 'HIGH' 25.475]\n",
      " [28 'M' 'NORMAL' 'HIGH' 27.064]\n",
      " [15 'M' 'HIGH' 'NORMAL' 17.206]\n",
      " [36 'F' 'NORMAL' 'HIGH' 16.753]\n",
      " [53 'F' 'HIGH' 'NORMAL' 12.495]\n",
      " [19 'F' 'HIGH' 'NORMAL' 25.969]\n",
      " [66 'M' 'HIGH' 'HIGH' 16.347]\n",
      " [35 'M' 'NORMAL' 'NORMAL' 7.845]\n",
      " [47 'M' 'LOW' 'NORMAL' 33.542]\n",
      " [32 'F' 'NORMAL' 'HIGH' 7.477]\n",
      " [70 'F' 'NORMAL' 'HIGH' 20.489]\n",
      " [52 'M' 'LOW' 'NORMAL' 32.922]\n",
      " [49 'M' 'LOW' 'NORMAL' 13.598]\n",
      " [24 'M' 'NORMAL' 'HIGH' 25.786]\n",
      " [42 'F' 'HIGH' 'HIGH' 21.036]\n",
      " [74 'M' 'LOW' 'NORMAL' 11.939]\n",
      " [55 'F' 'HIGH' 'HIGH' 10.977]\n",
      " [35 'F' 'HIGH' 'HIGH' 12.894]\n",
      " [51 'M' 'HIGH' 'NORMAL' 11.343]\n",
      " [69 'F' 'NORMAL' 'HIGH' 10.065]\n",
      " [49 'M' 'HIGH' 'NORMAL' 6.269]\n",
      " [64 'F' 'LOW' 'NORMAL' 25.741]\n",
      " [60 'M' 'HIGH' 'NORMAL' 8.621]\n",
      " [74 'M' 'HIGH' 'NORMAL' 15.436]\n",
      " [39 'M' 'HIGH' 'HIGH' 9.664]\n",
      " [61 'M' 'NORMAL' 'HIGH' 9.443]\n",
      " [37 'F' 'LOW' 'NORMAL' 12.006]\n",
      " [26 'F' 'HIGH' 'NORMAL' 12.307]\n",
      " [61 'F' 'LOW' 'NORMAL' 7.34]\n",
      " [22 'M' 'LOW' 'HIGH' 8.151]\n",
      " [49 'M' 'HIGH' 'NORMAL' 8.7]\n",
      " [68 'M' 'HIGH' 'HIGH' 11.009]\n",
      " [55 'M' 'NORMAL' 'NORMAL' 7.261]\n",
      " [72 'F' 'LOW' 'NORMAL' 14.642]\n",
      " [37 'M' 'LOW' 'NORMAL' 16.724]\n",
      " [49 'M' 'LOW' 'HIGH' 10.537]\n",
      " [31 'M' 'HIGH' 'NORMAL' 11.227]\n",
      " [53 'M' 'LOW' 'HIGH' 22.963]\n",
      " [59 'F' 'LOW' 'HIGH' 10.444]\n",
      " [34 'F' 'LOW' 'NORMAL' 12.923]\n",
      " [30 'F' 'NORMAL' 'HIGH' 10.443]\n",
      " [57 'F' 'HIGH' 'NORMAL' 9.945]\n",
      " [43 'M' 'NORMAL' 'NORMAL' 12.859]\n",
      " [21 'F' 'HIGH' 'NORMAL' 28.632]\n",
      " [16 'M' 'HIGH' 'NORMAL' 19.007]\n",
      " [38 'M' 'LOW' 'HIGH' 18.295]\n",
      " [58 'F' 'LOW' 'HIGH' 26.645]\n",
      " [57 'F' 'NORMAL' 'HIGH' 14.216]\n",
      " [51 'F' 'LOW' 'NORMAL' 23.003]\n",
      " [20 'F' 'HIGH' 'HIGH' 11.262]\n",
      " [28 'F' 'NORMAL' 'HIGH' 12.879]\n",
      " [45 'M' 'LOW' 'NORMAL' 10.017]\n",
      " [41 'F' 'LOW' 'NORMAL' 18.739]\n",
      " [42 'M' 'HIGH' 'NORMAL' 12.766]\n",
      " [73 'F' 'HIGH' 'HIGH' 18.348]\n",
      " [48 'M' 'HIGH' 'NORMAL' 10.446]\n",
      " [25 'M' 'NORMAL' 'HIGH' 19.011]\n",
      " [39 'M' 'NORMAL' 'HIGH' 15.969]\n",
      " [67 'F' 'NORMAL' 'HIGH' 15.891]\n",
      " [22 'F' 'HIGH' 'NORMAL' 22.818]\n",
      " [59 'F' 'NORMAL' 'HIGH' 13.884]\n",
      " [20 'F' 'LOW' 'NORMAL' 11.686]\n",
      " [36 'F' 'HIGH' 'NORMAL' 15.49]\n",
      " [18 'F' 'HIGH' 'HIGH' 37.188]\n",
      " [57 'F' 'NORMAL' 'NORMAL' 25.893]\n",
      " [70 'M' 'HIGH' 'HIGH' 9.849]\n",
      " [47 'M' 'HIGH' 'HIGH' 10.403]\n",
      " [65 'M' 'HIGH' 'NORMAL' 34.997]\n",
      " [64 'M' 'HIGH' 'NORMAL' 20.932]\n",
      " [58 'M' 'HIGH' 'HIGH' 18.991]\n",
      " [23 'M' 'HIGH' 'HIGH' 8.011]\n",
      " [72 'M' 'LOW' 'HIGH' 16.31]\n",
      " [72 'M' 'LOW' 'HIGH' 6.769]\n",
      " [46 'F' 'HIGH' 'HIGH' 34.686]\n",
      " [56 'F' 'LOW' 'HIGH' 11.567]\n",
      " [16 'M' 'LOW' 'HIGH' 12.006]\n",
      " [52 'M' 'NORMAL' 'HIGH' 9.894]\n",
      " [40 'F' 'LOW' 'NORMAL' 11.349]]\n"
     ]
    }
   ],
   "source": [
    "# Extract the feature matrix (X) and target variable (Y) from the dataset\n",
    "X = dataset.iloc[:, :-1].values  # Features (all columns except the last one)\n",
    "Y = dataset.iloc[:, -1].values   # Target variable (last column)\n",
    "\n",
    "# Display the feature matrix (X)\n",
    "print(\"Feature Matrix (X):\\n\", X)\n"
   ]
  },
  {
   "cell_type": "markdown",
   "metadata": {},
   "source": [
    "### Encode Categorical Data in Features (One-Hot Encoding)"
   ]
  },
  {
   "cell_type": "code",
   "execution_count": 20,
   "metadata": {},
   "outputs": [],
   "source": [
    "# Define a ColumnTransformer for applying transformations to specific columns\n",
    "# - 'encoder': OneHotEncoder is used for one-hot encoding\n",
    "# - [1, 2, 3]: Columns 1, 2, and 3 are one-hot encoded, specified by their indices\n",
    "# - 'remainder': 'passthrough' indicates that the remaining columns are passed through without any transformations\n",
    "ct = ColumnTransformer(transformers=[('encoder', OneHotEncoder(), [1, 2, 3])], remainder='passthrough')\n",
    "\n",
    "# Apply the transformations defined by ColumnTransformer to the feature matrix (X)\n",
    "X = np.array(ct.fit_transform(X))\n"
   ]
  },
  {
   "cell_type": "markdown",
   "metadata": {},
   "source": [
    "### Encode Target Data (Label Encoding)"
   ]
  },
  {
   "cell_type": "code",
   "execution_count": 21,
   "metadata": {},
   "outputs": [
    {
     "data": {
      "text/plain": [
       "array([4, 2, 2, 3, 4, 3, 4, 2, 4, 2, 4, 4, 4, 3, 4, 3, 0, 2, 4, 4, 4, 4,\n",
       "       4, 4, 4, 4, 3, 4, 4, 3, 1, 3, 4, 3, 3, 0, 3, 3, 3, 4, 1, 4, 3, 3,\n",
       "       3, 0, 2, 4, 4, 4, 3, 4, 4, 1, 2, 1, 4, 3, 4, 4, 0, 4, 3, 1, 4, 0,\n",
       "       3, 4, 4, 1, 4, 3, 4, 4, 4, 0, 4, 0, 3, 1, 3, 2, 0, 2, 1, 3, 4, 4,\n",
       "       4, 4, 4, 4, 4, 4, 3, 4, 4, 4, 4, 0, 0, 2, 3, 4, 3, 3, 4, 1, 4, 0,\n",
       "       3, 3, 3, 3, 4, 3, 3, 0, 4, 4, 4, 4, 1, 4, 4, 3, 4, 3, 4, 4, 3, 4,\n",
       "       4, 3, 1, 0, 1, 3, 0, 4, 1, 4, 0, 3, 3, 0, 3, 2, 0, 1, 3, 3, 4, 2,\n",
       "       0, 4, 2, 3, 3, 1, 3, 4, 4, 4, 4, 3, 4, 0, 3, 3, 4, 0, 4, 0, 4, 4,\n",
       "       4, 4, 3, 3, 4, 4, 4, 1, 0, 4, 4, 4, 0, 4, 2, 4, 2, 2, 3, 3])"
      ]
     },
     "execution_count": 21,
     "metadata": {},
     "output_type": "execute_result"
    }
   ],
   "source": [
    "le = LabelEncoder() # Use LabelEncoder to encode the target variable (Y)\n",
    "\n",
    "\n",
    "Y = np.array(le.fit_transform(Y)) # Transform and overwrite the original target variable (Y) with encoded values\n",
    "\n",
    "# Display the Target matrix (Y)\n",
    "Y"
   ]
  },
  {
   "cell_type": "markdown",
   "metadata": {},
   "source": [
    "## 1st Experiment"
   ]
  },
  {
   "cell_type": "code",
   "execution_count": 22,
   "metadata": {},
   "outputs": [
    {
     "name": "stdout",
     "output_type": "stream",
     "text": [
      "Experiment 1 with Tree Size: 15 and Accuracy: 1.0\n",
      "Experiment 2 with Tree Size: 15 and Accuracy: 0.9661016949152542\n",
      "Experiment 3 with Tree Size: 15 and Accuracy: 0.9322033898305084\n",
      "Experiment 4 with Tree Size: 11 and Accuracy: 0.9661016949152542\n",
      "Experiment 5 with Tree Size: 15 and Accuracy: 0.9661016949152542\n",
      "\n",
      "\n",
      "Best Experiment: 1\n",
      "Accuracy: 1.0\n",
      "Tree Size: 15\n"
     ]
    }
   ],
   "source": [
    "# Define a list of random states which have high variance to ensure Randomization Facotr\n",
    "random_states = [1736,0, 123, 789, 987, 654]\n",
    "\n",
    "# Intialize Indicator Variables with -ve values to detect the maximum Accuracy, best experiment, Tree size of the best experiment and highst accuracy \n",
    "max_accuracy = -100\n",
    "best_experiment = 0\n",
    "best_treesize = -1\n",
    "\n",
    "# Loop Over Random States\n",
    "for i in range(5):\n",
    "    \n",
    "    # Split the dataset into training and testing sets using a random state\n",
    "    X_train, X_test, y_train, y_test = train_test_split(X, Y, test_size=0.3, random_state=random_states[i])\n",
    "    \n",
    "    # Create and train a Decision Tree Classifier model\n",
    "    model = DecisionTreeClassifier()\n",
    "    model.fit(X_train, y_train)\n",
    "\n",
    "    # Make predictions on the test set\n",
    "    y_pred = model.predict(X_test)\n",
    "\n",
    "    # Calculate and print the accuracy of the current experiment\n",
    "    accuracy = accuracy_score(y_test, y_pred)\n",
    "    \n",
    "    # Update variables if the current experiment has higher accuracy\n",
    "    if accuracy >= max_accuracy:\n",
    "        max_accuracy = accuracy\n",
    "        best_experiment = i+1\n",
    "        best_treesize = model.tree_.node_count\n",
    "\n",
    "    # Print Each Experiment with It's Accuracy and Tree Size\n",
    "    print(f\"Experiment {i+1} with Tree Size: {model.tree_.node_count} and Accuracy: {accuracy}\")\n",
    "\n",
    "print(\"\\n\")\n",
    "# Print Details of Experiment hasing best accuracy\n",
    "print(f\"Best Experiment: {best_experiment}\\nAccuracy: {max_accuracy}\\nTree Size: {best_treesize}\")\n"
   ]
  },
  {
   "cell_type": "code",
   "execution_count": 23,
   "metadata": {},
   "outputs": [],
   "source": [
    "def run_decision_tree_experiment(X, Y, random_states, trn_size):\n",
    "    \n",
    "    accuracies = []\n",
    "    tree_sizes = []\n",
    "\n",
    "    for i in range(len(random_states)):\n",
    "        # Split the dataset into training and testing sets using a random state\n",
    "        X_train, X_test, y_train, y_test = train_test_split(X, Y, test_size = 1-trn_size, random_state=random_states[i])\n",
    "\n",
    "        # Create and train a Decision Tree Classifier model\n",
    "        model = DecisionTreeClassifier()\n",
    "        model.fit(X_train, y_train)\n",
    "\n",
    "        # Make predictions on the test set\n",
    "        y_pred = model.predict(X_test)\n",
    "\n",
    "        # Calculate accuracy of the current experiment\n",
    "        accuracy = accuracy_score(y_test, y_pred)\n",
    "        accuracies.append(accuracy)\n",
    "        tree_sizes.append(model.tree_.node_count)\n",
    "\n",
    "    # Return details of the best experiment as a tuple\n",
    "    return np.mean(accuracies), np.max(accuracies) ,np.min(accuracies),np.mean(tree_sizes),np.max(tree_sizes),np.min(tree_sizes)"
   ]
  },
  {
   "cell_type": "markdown",
   "metadata": {},
   "source": [
    "## 2nd Experiment\n"
   ]
  },
  {
   "cell_type": "code",
   "execution_count": 24,
   "metadata": {},
   "outputs": [
    {
     "name": "stdout",
     "output_type": "stream",
     "text": [
      "   Training Set Size  Mean Accuracy  Max Accuracy  Min Accuracy  \\\n",
      "0                0.3       0.980676      0.992754      0.949275   \n",
      "1                0.4       0.980226      0.991525      0.949153   \n",
      "2                0.5       0.977891      1.000000      0.938776   \n",
      "3                0.6       0.972574      1.000000      0.924051   \n",
      "4                0.7       0.960452      1.000000      0.898305   \n",
      "\n",
      "   Mean Tree Size  Max Tree Size  Min Tree Size  \n",
      "0       12.333333             15             11  \n",
      "1       13.666667             15             11  \n",
      "2       13.666667             15             11  \n",
      "3       13.666667             15             11  \n",
      "4       13.666667             15             11  \n"
     ]
    },
    {
     "data": {
      "image/png": "[encoded data removed]",
      "text/plain": [
       "<Figure size 648x360 with 1 Axes>"
      ]
     },
     "metadata": {
      "needs_background": "light"
     },
     "output_type": "display_data"
    },
    {
     "data": {
      "image/png": "[encoded data removed]",
      "text/plain": [
       "<Figure size 648x360 with 1 Axes>"
      ]
     },
     "metadata": {
      "needs_background": "light"
     },
     "output_type": "display_data"
    }
   ],
   "source": [
    "train_size = 0.3\n",
    "\n",
    "# Initialize lists to store statistics\n",
    "mean_accuracies = []\n",
    "max_accuracies = []\n",
    "min_accuracies = []\n",
    "mean_tree_sizes = []\n",
    "max_tree_sizes = []\n",
    "min_tree_sizes = []\n",
    "\n",
    "# Loop through different training set sizes using while loop\n",
    "while train_size <= 0.7:\n",
    "    \n",
    "    a_mean, a_max, a_min, t_mean, t_max, t_min = run_decision_tree_experiment(X,Y,random_states,train_size)\n",
    "    \n",
    "    # Calculate mean, max, and min statistics for the current training set size\n",
    "    mean_accuracies.append(a_mean) # Append Mean of each experiment with specific train_size\n",
    "    max_accuracies.append(a_max)\n",
    "    min_accuracies.append(a_min)\n",
    "    mean_tree_sizes.append(t_mean)\n",
    "    max_tree_sizes.append(t_max)\n",
    "    min_tree_sizes.append(t_min)\n",
    "\n",
    "    # Increment training_size\n",
    "    train_size += 0.1\n",
    "\n",
    "# Display the statistics\n",
    "report = pd.DataFrame({\n",
    "    'Training Set Size': [0.3, 0.4, 0.5, 0.6, 0.7],\n",
    "    'Mean Accuracy': mean_accuracies,\n",
    "    'Max Accuracy': max_accuracies,\n",
    "    'Min Accuracy': min_accuracies,\n",
    "    'Mean Tree Size': mean_tree_sizes,\n",
    "    'Max Tree Size': max_tree_sizes,\n",
    "    'Min Tree Size': min_tree_sizes\n",
    "})\n",
    "\n",
    "print(report)\n",
    "\n",
    "# Define the size of the first plot (accuracy plot) to be 9 units in width and 5 units in height\n",
    "plt.figure(figsize=(9, 5))\n",
    "\n",
    "# Create a line plot for mean accuracy with black color and add a legend label\n",
    "plt.plot([0.3, 0.4, 0.5, 0.6, 0.7], mean_accuracies, label='Mean Accuracy', color='black')\n",
    "\n",
    "# Fill the area between the minimum and maximum accuracy curves with blue color and transparency, and add a legend label\n",
    "plt.fill_between([0.3, 0.4, 0.5, 0.6, 0.7], min_accuracies, max_accuracies, alpha=0.3, color='blue', label='Accuracy Range')\n",
    "\n",
    "# Set the title of the accuracy plot\n",
    "plt.title('Accuracy vs Training Set Size')\n",
    "\n",
    "# Label the x-axis as 'Training Set Size'\n",
    "plt.xlabel('Training Set Size')\n",
    "\n",
    "# Label the y-axis as 'Accuracy'\n",
    "plt.ylabel('Accuracy')\n",
    "\n",
    "# Display the legend in the plot\n",
    "plt.legend()\n",
    "\n",
    "# Show the accuracy plot\n",
    "plt.show()\n",
    "\n",
    "# Define the size of the second plot (tree size plot) to be 9 units in width and 5 units in height\n",
    "plt.figure(figsize=(9, 5))\n",
    "\n",
    "# Create a line plot for mean tree size with blue color and add a legend label\n",
    "plt.plot([0.3, 0.4, 0.5, 0.6, 0.7], mean_tree_sizes, label='Mean Tree Size', color='blue')\n",
    "\n",
    "# Fill the area between the minimum and maximum tree size curves with black color and transparency, and add a legend label\n",
    "plt.fill_between([0.3, 0.4, 0.5, 0.6, 0.7], min_tree_sizes, max_tree_sizes, alpha=0.3, color='black', label='Tree Size Range')\n",
    "\n",
    "# Set the title of the tree size plot\n",
    "plt.title('Tree Size vs Training Set Size')\n",
    "\n",
    "# Label the x-axis as 'Training Set Size'\n",
    "plt.xlabel('Training Set Size')\n",
    "\n",
    "# Label the y-axis as 'Tree Size'\n",
    "plt.ylabel('Tree Size')\n",
    "\n",
    "# Display the legend in the plot\n",
    "plt.legend()\n",
    "\n",
    "# Show the tree size plot\n",
    "plt.show()\n"
   ]
  },
  {
   "cell_type": "markdown",
   "metadata": {},
   "source": [
    "# Problem 2"
   ]
  },
  {
   "cell_type": "markdown",
   "metadata": {},
   "source": [
    "### KNN Class"
   ]
  },
  {
   "cell_type": "code",
   "execution_count": 25,
   "metadata": {},
   "outputs": [],
   "source": [
    "\n",
    "\n",
    "class KNN():\n",
    "\n",
    "    def __init__(self) -> None:\n",
    "        self.train=list()\n",
    "\n",
    "    def __distance(self,testRow,trainRow):\n",
    "        distance = 0.0\n",
    "        for i in range(len(testRow)-1):\n",
    "            distance += (testRow[i] - trainRow[i])**2\n",
    "        return distance**(1/2) \n",
    "\n",
    "\n",
    "    def __KDist(self,testRow, k):\n",
    "        allDistances = list()\n",
    "        for trainRow in self.train:\n",
    "                dist = self.__distance(testRow, trainRow)\n",
    "                allDistances.append((trainRow, dist))\n",
    "                allDistances.sort(key=lambda tup: tup[1])\n",
    "        neighborsDistances=allDistances[:k]\n",
    "        return neighborsDistances   #Tuples of k neighbors and their distances\n",
    "    \n",
    "\n",
    "    def predict(self, testRow, k):\n",
    "        nwd = self.__KDist(testRow, k)\n",
    "        total_weighted_votes = {}\n",
    "        total_weights = 0\n",
    "\n",
    "        for neighbor, dist in nwd:\n",
    "            weight = 1 / (dist + 0.000001) #to not divide by 0\n",
    "            total_weights += weight\n",
    "\n",
    "            class_label = neighbor[-1]\n",
    "\n",
    "            if class_label in total_weighted_votes:\n",
    "                total_weighted_votes[class_label] += weight\n",
    "            else:\n",
    "                total_weighted_votes[class_label] = weight\n",
    "\n",
    "        normalized_votes = {label: weight / total_weights for label, weight in total_weighted_votes.items()} #Weight of every class divided by total weights of both classes\n",
    "        return max(normalized_votes, key=normalized_votes.get) #Max voted class\n",
    "\n",
    "    def evaluation(self,true, predicted):\n",
    "        correctPredictions = 0\n",
    "\n",
    "        for i in range(len(true)):\n",
    "            if true[i] == predicted[i]:\n",
    "                correctPredictions += 1\n",
    "        return correctPredictions\n",
    "        \n",
    "    def fit(self,train, test, k):\n",
    "        self.train=train\n",
    "        allPredicted = list()\n",
    "        for row in test:\n",
    "            prediction = self.predict(row, k)\n",
    "            allPredicted.append(prediction)\n",
    "        trueValues = [row[-1] for row in test]\n",
    "        corr=self.evaluation(trueValues,allPredicted)\n",
    "        print(\"Model fit successfully using:- \\nK: {}\\nCorrect predicitons: {}\\nTest set instances: {}\\nAccuracy: {}%\".format(k,corr,len(test),str(round(corr / len(test) * 100,2))))\n",
    "        \n"
   ]
  },
  {
   "cell_type": "markdown",
   "metadata": {},
   "source": [
    "### Preprocessing Class"
   ]
  },
  {
   "cell_type": "code",
   "execution_count": 26,
   "metadata": {},
   "outputs": [],
   "source": [
    "class preprocessing():\n",
    "\n",
    "    def train_test_split(dataset,ratio):\n",
    "        \n",
    "        ratio_idx=round(1-ratio*len(dataset))\n",
    "        train = dataset[:ratio_idx]\n",
    "        test = dataset[ratio_idx:]\n",
    "        return train, test\n",
    "    \n",
    "    def normalization(dataset):\n",
    "\n",
    "        features = [list(map(float, row[:-1])) for row in dataset]\n",
    "        labels = [row[-1] for row in dataset]\n",
    "\n",
    "        features_transposed = list(map(list, zip(*features)))\n",
    "\n",
    "        # Normalization min max\n",
    "        normalized_features = []\n",
    "        for feature_values in features_transposed:\n",
    "            min_value = min(feature_values)\n",
    "            max_value = max(feature_values)\n",
    "            normalized_feature = [(float(value) - min_value) / (max_value - min_value) for value in feature_values]\n",
    "            normalized_features.append(normalized_feature)\n",
    "\n",
    "        normalized_features = list(map(list, zip(*normalized_features)))\n",
    "\n",
    "        normalized_dataset = [normalized_feature + [label] for normalized_feature, label in zip(normalized_features, labels)]\n",
    "\n",
    "        return normalized_dataset"
   ]
  },
  {
   "cell_type": "markdown",
   "metadata": {},
   "source": [
    "### Pandas Class"
   ]
  },
  {
   "cell_type": "code",
   "execution_count": 27,
   "metadata": {},
   "outputs": [],
   "source": [
    "class pd:\n",
    "    \n",
    "    def read_csv(filename,header=True):\n",
    "        with open(filename, 'r') as f:\n",
    "            if header:\n",
    "                next(f)\n",
    "            results = []\n",
    "            for line in f:\n",
    "                line= line.strip()\n",
    "                words = line.split(',')\n",
    "                results.append(words)\n",
    "\n",
    "        return results"
   ]
  },
  {
   "cell_type": "markdown",
   "metadata": {},
   "source": [
    "### Load The Dataset"
   ]
  },
  {
   "cell_type": "code",
   "execution_count": 28,
   "metadata": {},
   "outputs": [],
   "source": [
    "dataset=pd.read_csv('diabetes.csv')"
   ]
  },
  {
   "cell_type": "markdown",
   "metadata": {},
   "source": [
    "###  Normalize each feature column separately for training and test objects using Log Transformation or Min-Max Scaling"
   ]
  },
  {
   "cell_type": "code",
   "execution_count": 29,
   "metadata": {},
   "outputs": [],
   "source": [
    "dataset=preprocessing.normalization(dataset)"
   ]
  },
  {
   "cell_type": "markdown",
   "metadata": {},
   "source": [
    "### Split Dataset into Train and Test "
   ]
  },
  {
   "cell_type": "code",
   "execution_count": 30,
   "metadata": {},
   "outputs": [],
   "source": [
    "train,test=preprocessing.train_test_split(dataset,0.3)"
   ]
  },
  {
   "cell_type": "markdown",
   "metadata": {},
   "source": [
    "### Train The KNN Classifier"
   ]
  },
  {
   "cell_type": "code",
   "execution_count": 31,
   "metadata": {},
   "outputs": [
    {
     "name": "stdout",
     "output_type": "stream",
     "text": [
      "Model fit successfully using:- \n",
      "K: 5\n",
      "Correct predicitons: 173\n",
      "Test set instances: 229\n",
      "Accuracy: 75.55%\n"
     ]
    }
   ],
   "source": [
    "knn=KNN()\n",
    "knn.fit(train,test,5)"
   ]
  },
  {
   "cell_type": "markdown",
   "metadata": {},
   "source": [
    "### Train With Different values for K "
   ]
  },
  {
   "cell_type": "code",
   "execution_count": 32,
   "metadata": {},
   "outputs": [
    {
     "name": "stdout",
     "output_type": "stream",
     "text": [
      "Model fit successfully using:- \n",
      "K: 3\n",
      "Correct predicitons: 175\n",
      "Test set instances: 229\n",
      "Accuracy: 76.42%\n",
      "────────────────────\n",
      "Model fit successfully using:- \n",
      "K: 6\n",
      "Correct predicitons: 176\n",
      "Test set instances: 229\n",
      "Accuracy: 76.86%\n",
      "────────────────────\n",
      "Model fit successfully using:- \n",
      "K: 9\n",
      "Correct predicitons: 171\n",
      "Test set instances: 229\n",
      "Accuracy: 74.67%\n",
      "────────────────────\n",
      "Model fit successfully using:- \n",
      "K: 12\n",
      "Correct predicitons: 177\n",
      "Test set instances: 229\n",
      "Accuracy: 77.29%\n",
      "────────────────────\n",
      "Model fit successfully using:- \n",
      "K: 14\n",
      "Correct predicitons: 178\n",
      "Test set instances: 229\n",
      "Accuracy: 77.73%\n",
      "────────────────────\n"
     ]
    }
   ],
   "source": [
    "for k in [3,6,9,12,14]:\n",
    "    knn.fit(train,test,k)\n",
    "    print('─' * 20)"
   ]
  }
 ],
 "metadata": {
  "kernelspec": {
   "display_name": "base",
   "language": "python",
   "name": "python3"
  },
  "language_info": {
   "codemirror_mode": {
    "name": "ipython",
    "version": 3
   },
   "file_extension": ".py",
   "mimetype": "text/x-python",
   "name": "python",
   "nbconvert_exporter": "python",
   "pygments_lexer": "ipython3",
   "version": "3.9.7"
  }
 },
 "nbformat": 4,
 "nbformat_minor": 2
}
